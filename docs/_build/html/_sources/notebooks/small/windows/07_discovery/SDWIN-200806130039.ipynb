{
 "cells": [
  {
   "cell_type": "markdown",
   "metadata": {},
   "source": [
    "# Covenant Ldap Search Request Domain Admins"
   ]
  },
  {
   "cell_type": "markdown",
   "metadata": {},
   "source": [
    "## Metadata"
   ]
  },
  {
   "cell_type": "markdown",
   "metadata": {},
   "source": [
    "\n",
    "|                   |    |\n",
    "|:------------------|:---|\n",
    "| id                | SDWIN-200806130039 |\n",
    "| author            | Roberto Rodriguez @Cyb3rWard0g |\n",
    "| creation date     | 2020/08/06 |\n",
    "| platform          | Windows |\n",
    "| Mordor Environment| Mordor shire |\n",
    "| Simulation Type   | C2 |\n",
    "| Simulation Tool   | Covenant |\n",
    "| Simulation Script | https://github.com/cobbr/Covenant/blob/19e4a17048ade1b854241bb5d938398860ab5981/Covenant/Data/Tasks/SharpSploit.Enumeration.yaml |\n",
    "| Mordor Dataset    | https://raw.githubusercontent.com/OTRF/mordor/master/datasets/small/windows/discovery/covenant_ldap_searchrequest_domainadmins.cap |"
   ]
  },
  {
   "cell_type": "markdown",
   "metadata": {},
   "source": [
    "## Dataset Description\n",
    "This dataset represents a threat actor enumerating the domain admins group in an environment."
   ]
  },
  {
   "cell_type": "markdown",
   "metadata": {},
   "source": [
    "## Adversary View\n",
    "```\n",
    "[08/06/2020 17:00:59 UTC] GetDomainGroup completed\n",
    "\n",
    "(wardog) > GetDomainGroup /identities:\"Domain Admins\"\n",
    "\n",
    "samaccountname: Domain Admins\n",
    "\n",
    "samaccounttype: GROUP_OBJECT\n",
    "\n",
    "distinguishedname: CN=Domain Admins,CN=Users,DC=theshire,DC=local\n",
    "\n",
    "cn: Domain Admins\n",
    "\n",
    "objectsid: S-1-5-21-1363495622-3806888128-621328882-512\n",
    "\n",
    "grouptype: 0\n",
    "\n",
    "admincount: 1\n",
    "\n",
    "name: Domain Admins\n",
    "\n",
    "description: Designated administrators of the domain\n",
    "\n",
    "memberof: CN=Denied RODC Password Replication Group,CN=Users,DC=theshire,DC=local, CN=Administrators,CN=Builtin,DC=theshire,DC=local\n",
    "\n",
    "useraccountcontrol: 0\n",
    "\n",
    "badpasswordtime: 1/1/0001 12:00:00 AM\n",
    "\n",
    "pwdlastset: 1/1/0001 12:00:00 AM\n",
    "\n",
    "whencreated: 8/6/2020 1:16:12 AM\n",
    "\n",
    "whenchanged: 8/6/2020 1:31:21 AM\n",
    "\n",
    "accountexpires: 1/1/0001 12:00:00 AM\n",
    "\n",
    "lastlogon: 1/1/0001 12:00:00 AM\n",
    "\n",
    "lastlogoff: 1/1/0001 12:00:00 AM\n",
    "\n",
    "objectcategory: CN=Group,CN=Schema,CN=Configuration,DC=theshire,DC=local\n",
    "\n",
    "usnchanged: 12913\n",
    "\n",
    "instancetype: 4\n",
    "\n",
    "objectclass: top, group\n",
    "\n",
    "iscriticalsystemobject: True\n",
    "\n",
    "usncreated: 12345\n",
    "\n",
    "dscorepropagationdata: 8/6/2020 1:31:21 AM, 8/6/2020 1:16:12 AM, 1/1/1601 12:04:16 AM\n",
    "\n",
    "adspath: LDAP://CN=Domain Admins,CN=Users,DC=theshire,DC=local\n",
    "\n",
    "objectguid: a5cafdc2-9e14-43bb-8ccb-fccba96e3b2c\n",
    "\n",
    "lastlogontimestamp: 1/1/0001 12:00:00 AM\n",
    "\n",
    "------\n",
    "```"
   ]
  },
  {
   "cell_type": "markdown",
   "metadata": {},
   "source": [
    "## Explore Mordor Dataset"
   ]
  },
  {
   "cell_type": "markdown",
   "metadata": {},
   "source": [
    "### Initialize Analytics Engine"
   ]
  },
  {
   "cell_type": "code",
   "execution_count": null,
   "metadata": {},
   "outputs": [],
   "source": [
    "from openhunt.mordorutils import *\n",
    "spark = get_spark()"
   ]
  },
  {
   "cell_type": "markdown",
   "metadata": {},
   "source": [
    "### Download & Process Mordor File"
   ]
  },
  {
   "cell_type": "code",
   "execution_count": null,
   "metadata": {},
   "outputs": [],
   "source": [
    "mordor_file = \"https://raw.githubusercontent.com/OTRF/mordor/master/datasets/small/windows/discovery/covenant_ldap_searchrequest_domainadmins.cap\"\n",
    "registerMordorSQLTable(spark, mordor_file, \"mordorTable\")"
   ]
  },
  {
   "cell_type": "markdown",
   "metadata": {},
   "source": [
    "### Get to know your data"
   ]
  },
  {
   "cell_type": "code",
   "execution_count": null,
   "metadata": {},
   "outputs": [],
   "source": [
    "df = spark.sql(\n",
    "    '''\n",
    "SELECT *\n",
    "FROM mordorTable\n",
    "    '''\n",
    ")\n",
    "df.printSchema()\n",
    "        "
   ]
  }
 ],
 "metadata": {
  "kernelspec": {
   "display_name": "PySpark_Python3",
   "language": "python",
   "name": "pyspark3"
  },
  "language_info": {
   "codemirror_mode": {
    "name": "ipython",
    "version": 3
   },
   "file_extension": ".py",
   "mimetype": "text/x-python",
   "name": "python",
   "nbconvert_exporter": "python",
   "pygments_lexer": "ipython3",
   "version": "3.7.3"
  }
 },
 "nbformat": 4,
 "nbformat_minor": 4
}
