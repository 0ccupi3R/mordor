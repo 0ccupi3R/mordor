{
 "cells": [
  {
   "cell_type": "markdown",
   "metadata": {},
   "source": [
    "# Empire Net User Domain Specific"
   ]
  },
  {
   "cell_type": "markdown",
   "metadata": {},
   "source": [
    "## Metadata"
   ]
  },
  {
   "cell_type": "markdown",
   "metadata": {},
   "source": [
    "\n",
    "|                       |    |\n",
    "|:----------------------|:---|\n",
    "| id                    | SDWIN-190518230446 |\n",
    "| author                | Roberto Rodriguez @Cyb3rWard0g |\n",
    "| creation date         | 2019/05/18 |\n",
    "| platform              | Windows |\n",
    "| Tactic(s)             | ['[TA0007](https://attack.mitre.org/tactics/TA0007)'] |\n",
    "| Technique(s)          | ['[T1087.002](https://attack.mitre.org/techniques/T1087/002)'] |\n",
    "| Simulaton Environment | Mordor shire |\n",
    "| Simulation Scripts    | [] |\n",
    "| Dataset           | https://raw.githubusercontent.com/OTRF/mordor/master/datasets/small/windows/discovery/empire_net_user_domain_specific.tar.gz |\n",
    "| References        | None |"
   ]
  },
  {
   "cell_type": "markdown",
   "metadata": {},
   "source": [
    "## Dataset Description\n",
    "This dataset represents adversaries enumerating a specific domain user via the net.exe utility"
   ]
  },
  {
   "cell_type": "markdown",
   "metadata": {},
   "source": [
    "## Adversary View\n",
    "```\n",
    "(Empire: TKV35P8X) > shell net user pgustavo /domain\n",
    "[*] Tasked TKV35P8X to run TASK_SHELL\n",
    "[*] Agent TKV35P8X tasked with task ID 38\n",
    "(Empire: TKV35P8X) > The request will be processed at a domain controller for domain shire.com.\n",
    "\n",
    "User name                    pgustavo\n",
    "Full Name                    Pedro Gustavo\n",
    "Comment                      \n",
    "User's comment               \n",
    "Country/region code          000 (System Default)\n",
    "Account active               Yes\n",
    "Account expires              Never\n",
    "\n",
    "Password last set            1/14/2019 1:20:18 PM\n",
    "Password expires             Never\n",
    "Password changeable          1/15/2019 1:20:18 PM\n",
    "Password required            Yes\n",
    "User may change password     Yes\n",
    "\n",
    "Workstations allowed         All\n",
    "Logon script                 \n",
    "User profile                 \n",
    "Home directory               \n",
    "Last logon                   5/18/2019 5:32:46 PM\n",
    "\n",
    "Logon hours allowed          All\n",
    "\n",
    "Local Group Memberships      *SG DL shire Workstati\n",
    "Global Group memberships     *Domain Users         *Domain Admins        \n",
    "The command completed successfully.\n",
    "\n",
    "\n",
    "..Command execution completed.\n",
    "\n",
    "(Empire: TKV35P8X) >\n",
    "```"
   ]
  },
  {
   "cell_type": "markdown",
   "metadata": {},
   "source": [
    "## Explore Mordor Dataset"
   ]
  },
  {
   "cell_type": "markdown",
   "metadata": {},
   "source": [
    "### Initialize Analytics Engine"
   ]
  },
  {
   "cell_type": "code",
   "execution_count": null,
   "metadata": {},
   "outputs": [],
   "source": [
    "from openhunt.mordorutils import *\n",
    "spark = get_spark()"
   ]
  },
  {
   "cell_type": "markdown",
   "metadata": {},
   "source": [
    "### Download & Process Mordor File"
   ]
  },
  {
   "cell_type": "code",
   "execution_count": null,
   "metadata": {},
   "outputs": [],
   "source": [
    "mordor_file = \"https://raw.githubusercontent.com/OTRF/mordor/master/datasets/small/windows/discovery/empire_net_user_domain_specific.tar.gz\"\n",
    "registerMordorSQLTable(spark, mordor_file, \"mordorTable\")"
   ]
  },
  {
   "cell_type": "markdown",
   "metadata": {},
   "source": [
    "### Get to know your data"
   ]
  },
  {
   "cell_type": "code",
   "execution_count": null,
   "metadata": {},
   "outputs": [],
   "source": [
    "df = spark.sql(\n",
    "    '''\n",
    "SELECT *\n",
    "FROM mordorTable\n",
    "    '''\n",
    ")\n",
    "df.printSchema()\n",
    "        "
   ]
  }
 ],
 "metadata": {
  "kernelspec": {
   "display_name": "PySpark_Python3",
   "language": "python",
   "name": "pyspark3"
  },
  "language_info": {
   "codemirror_mode": {
    "name": "ipython",
    "version": 3
   },
   "file_extension": ".py",
   "mimetype": "text/x-python",
   "name": "python",
   "nbconvert_exporter": "python",
   "pygments_lexer": "ipython3",
   "version": "3.7.3"
  }
 },
 "nbformat": 4,
 "nbformat_minor": 4
}